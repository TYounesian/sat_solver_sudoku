{
 "cells": [
  {
   "cell_type": "code",
   "execution_count": 12,
   "metadata": {},
   "outputs": [],
   "source": [
    "import itertools\n",
    "from copy import deepcopy\n",
    "import time\n",
    "import sys\n",
    "import random\n",
    "import pandas as pd\n",
    "# =================================== SETUP - READING FILES ===================================\n",
    "\n",
    "def getRules(rulePath):\n",
    "    if \"16\" in rulePath:\n",
    "        c16 = ['0', '1', '2', '3', '4', '5', '6', '7', '8', '9', 'A', 'B', 'C', 'D', 'E', 'F', 'G']\n",
    "        rules = []\n",
    "        for line in open(\"etc/sudoku-rules-16x16.txt\", \"r\"):\n",
    "            if line[0] == 'p': continue\n",
    "            clause = line[:-3].split(\" \")\n",
    "            newclause = []\n",
    "            for c in clause:\n",
    "                neg = \"-\" * (int(c) < 0)            # - sign needed if the predicate is less than 0\n",
    "                nf = neg + c16[abs(int(c)) // 17**2] + c16[abs(int(c)) % 17**2 // 17] + c16[abs(int(c) % 17**2) % 17]\n",
    "                newclause.append(nf)\n",
    "            rules.append(newclause)\n",
    "        return rules\n",
    "\n",
    "    else: return [line[:-3].split(' ') for line in open(rulePath, \"r\")][1:] # Returns the clauses as lists of integers\n",
    "\n",
    "\n",
    "def getSudokuFromFile(sudokuPath):\n",
    "    sudokus = [line[:-1] for line in open(sudokuPath, \"r\")]     # Read in the sudokus from a file\n",
    "    gridsize = int(len(sudokus[0])**0.5)                        # Dynamically determine grid size based on len(line)\n",
    "    c16 = ['1', '2', '3', '4', '5', '6', '7', '8', '9', 'A', 'B', 'C', 'D', 'E', 'F', 'G']\n",
    "    cnfs = []\n",
    "    for sudoku in sudokus:\n",
    "        clause = []\n",
    "        for place in range(len(sudoku)):                    # Number format is changed to CNF\n",
    "            if sudoku[place] != '.':                        # Calculates the place of the number based on the index\n",
    "                clause.append([c16[place//gridsize] + c16[place % gridsize] + str(sudoku[place])])\n",
    "        cnfs.append(clause)\n",
    "    return cnfs\n",
    "\n",
    "# =================================== DPLL Algorithm ===================================\n",
    "\n",
    "def dpll(cnf, heuristic):\n",
    "    global branches, heur_solution, backtrack\n",
    "    cls = []                                                            # Collects the unit clauses from each iter.\n",
    "    while True:\n",
    "        unitClauses = list(set([c[0] for c in cnf if len(c) == 1]))     # Unit clauses are clauses with lenght of 1\n",
    "        if not unitClauses: break                                       # Quit if there are no more unit clauses\n",
    "        cls.extend([x for x in unitClauses if x[0] != '-'])                   # Save only the positive predicates\n",
    "        for p in unitClauses:\n",
    "            for clause in cnf[:]:\n",
    "                if p in clause: cnf.remove(clause)                      # Delete the clause with the predicate\n",
    "                elif neg(p) in clause: cnf[cnf.index(clause)].remove(neg(p))    # Delete the negative of predicate from clause\n",
    "    heur_solution.extend(list(set(cls)))\n",
    "    if not cnf:\n",
    "        solution.extend(list(set(cls)))                 # If the set is empty we satisfied it all\n",
    "        return list(set(solution))                      # And the unit clauses can be added to the solution\n",
    "    if not all(cnf):\n",
    "        heur_solution = list(set(heur_solution) - set(cls))\n",
    "        backtrack += 1\n",
    "        return False                       # If a clause is empty it cannot be satisfied\n",
    "    p = heuristic(cnf)                                  # Choose a heuristic\n",
    "    branches += 1                                       # Either branch should be correct\n",
    "    if dpll(deepcopy(cnf) + [[p]], heuristic) or dpll(deepcopy(cnf) + [[neg(p)]], heuristic):\n",
    "        solution.extend(list(set(cls)))                                 # Add the solution to the set\n",
    "        return list(set(solution))                                      # Return solutions\n",
    "    else: return False\n",
    "\n",
    "\n",
    "def neg(x):\n",
    "    if x[0] == \"-\": return x[1:]\n",
    "    else: return \"-\" + x\n",
    "\n",
    "def solver_complete(cnf, heuristic):\n",
    "    # cnfloop = cnf[:]                                    # ------------- Needs checking for tautologies -------------\n",
    "    # for clause in cnfloop:                              # Looping trough a copy of the input and\n",
    "    #     for a, b in itertools.combinations(clause, 2):  # checking if any of the paris in the clauses sum to 0\n",
    "    #         if (a + b) == 0: cnf.remove(clause)         # ----------------------------------------------------------\n",
    "    return dpll(cnf, heuristic)                                    # ------- Beginning real algorithm\n",
    "\n",
    "\n",
    "# =================================== Heuristics ===================================\n",
    "\n",
    "def heuristics_HUMAN(cnf):\n",
    "    \"\"\"\n",
    "    Looks for clauses with the most filled out rows and columns\n",
    "    \"\"\"\n",
    "    global heur_solution, rules\n",
    "    #\n",
    "    size = rules.split('x')[1][0]\n",
    "    rows = {}\n",
    "    cols = {}\n",
    "    for literal in heur_solution:\n",
    "        if literal[0] in rows:\n",
    "            rows[literal[0]]+= 1\n",
    "            if rows[literal[0]] == int(size): del rows[literal[0]]           # Row is full, remove from options\n",
    "        else: rows[literal[0]] = 1\n",
    "        if literal[1] in cols:\n",
    "            cols[literal[1]] += 1\n",
    "            if cols[literal[1]] == int(size): del cols[literal[1]]  # Row is full, remove from options\n",
    "        else: cols[literal[1]] = 1\n",
    "\n",
    "    # Look through the literals and give them a weight based on how filled out their column and row is\n",
    "    weights = {}\n",
    "    for clause in cnf:\n",
    "        for literal in clause:\n",
    "            if literal not in weights:\n",
    "                if literal[-3] in rows: w = rows[literal[-3]]\n",
    "                else: w = 0\n",
    "                if literal[-2] in cols: w += cols[literal[-2]]\n",
    "                weights[literal] = w\n",
    "    return max(weights, key=weights.get)            # Return the most frequent predicate\n",
    "\n",
    "\n",
    "def heuristics_JWOS(cnf):                               # One-sided Jeroslow-Wang Heuristics\n",
    "    weights = {}\n",
    "    for clause in cnf:\n",
    "        for literal in clause:\n",
    "            if literal in weights: weights[literal] += 2 ** -len(clause)\n",
    "            else: weights[literal] = 2 ** -len(clause)\n",
    "    return max(weights, key=weights.get)                # Return the most frequent predicate\n",
    "\n",
    "\n",
    "def heuristics_JWTS(cnf):                               # Two-sided Jeroslow-Wang Heuristics\n",
    "    weights = {}\n",
    "    for clause in cnf:\n",
    "        for literal in clause:\n",
    "            if literal[0] == '-': literal = literal[1:]\n",
    "            if literal in weights: weights[literal] += 2 ** -len(clause)\n",
    "            else: weights[literal] = 2 ** -len(clause)\n",
    "    return max(weights, key=weights.get)                # Return the most frequent predicate\n",
    "\n",
    "\n",
    "def heuristics_FIRST(cnf):                              # First predicate we encounter\n",
    "    return cnf[0][0]                                    # Return the first predicate from the first clause\n",
    "\n",
    "\n",
    "def heuristics_RAND(cnf):                               # Returns a random predicate\n",
    "    rc = random.randrange(0, len(cnf))                  # Random clause\n",
    "    rp = random.randrange(0, len(cnf[rc]))                  # Random predicate\n",
    "    return cnf[rc][rp]                                    # Return the first predicate from the first clause\n",
    "\n",
    "\n",
    "def heuristics_DLCS(cnf):\n",
    "    weights = {}\n",
    "    for clause in cnf:\n",
    "        for literal in clause:\n",
    "            if literal in weights:\n",
    "                weights[literal] += 1\n",
    "            else:\n",
    "                weights[literal] = 1\n",
    "    return max(weights, key=weights.get)            # Return the most frequent predicate\n",
    "\n",
    "\n",
    "heuristics = {\n",
    "    'HUMAN' : heuristics_HUMAN,\n",
    "    'JWOS': heuristics_JWOS,\n",
    "    'JWTS': heuristics_JWTS,\n",
    "    'DLCS': heuristics_DLCS,\n",
    "    'FIRST': heuristics_FIRST,\n",
    "    'RAND' : heuristics_RAND\n",
    "}\n",
    "\n",
    "#  =================================== MAIN PROGRAM ===================================\n",
    "\n",
    "\n",
    "# --------------- 16 x 16 ---------------\n",
    "rules_16x16 = \"etc/sudoku-rules-16x16.txt\"\n",
    "# sudokuSource = \"etc/16x16.txt\"\n",
    "\n",
    "# ---------------- 9 x 9 ----------------\n",
    "# rules = \"etc/sudoku-rules-9x9-rev.txt\"\n",
    "rules_9x9 = \"etc/sudoku-rules-9x9.txt\"\n",
    "# sudokuSource = \"etc/damnhard.sdk.txt\"\n",
    "sudokuSource = \"etc/1000 sudokus.txt\"\n",
    "\n",
    "# ---------------- 4 x 4 ----------------\n",
    "rules_4x4 = \"etc/sudoku-rules-4x4.txt\"\n",
    "# sudokuSource = \"etc/4x4.txt\"\n",
    "\n",
    "df = pd.DataFrame(\n",
    "    columns=[\"heuristic\", \"puzzle ID\", \"time taken\", \"puzzle\", \"solution\", \"backtracking\", \"branches\", \"clues given\"])\n",
    "\n",
    "heuristicName = 'FIRST'\n",
    "heur_solution = []\n",
    "puzzlefiles = {\"etc/1000 sudokus.txt\": rules_9x9, \"etc/4x4.txt\": rules_4x4, \"etc/damnhard.sdk.txt\": rules_9x9}\n",
    "tests = 30\n",
    "rules = rules_9x9\n",
    "puzzles = getSudokuFromFile(\"etc/damnhard.sdk.txt\")\n",
    "cnf = getRules(rules_9x9) + puzzles[0]\n",
    "for heur in heuristics.keys():\n",
    "    heuristic = heuristics['FIRST']\n",
    "    #%timeit heuristic(cnf)"
   ]
  },
  {
   "cell_type": "code",
   "execution_count": 25,
   "metadata": {},
   "outputs": [
    {
     "name": "stdout",
     "output_type": "stream",
     "text": [
      "103 ns ± 1.24 ns per loop (mean ± std. dev. of 10 runs, 1000 loops each)\n"
     ]
    }
   ],
   "source": [
    "%timeit -n 1000 -r 10 heuristics['FIRST'](cnf)"
   ]
  },
  {
   "cell_type": "code",
   "execution_count": 26,
   "metadata": {},
   "outputs": [
    {
     "name": "stdout",
     "output_type": "stream",
     "text": [
      "2.38 µs ± 283 ns per loop (mean ± std. dev. of 10 runs, 1000 loops each)\n"
     ]
    }
   ],
   "source": [
    "%timeit -n 1000 -r 10 heuristics['RAND'](cnf)"
   ]
  },
  {
   "cell_type": "code",
   "execution_count": 27,
   "metadata": {},
   "outputs": [
    {
     "name": "stdout",
     "output_type": "stream",
     "text": [
      "2.04 ms ± 446 µs per loop (mean ± std. dev. of 10 runs, 1000 loops each)\n"
     ]
    }
   ],
   "source": [
    "%timeit -n 1000 -r 10  heuristics['HUMAN'](cnf) # Empty heuristic list"
   ]
  },
  {
   "cell_type": "code",
   "execution_count": 28,
   "metadata": {},
   "outputs": [
    {
     "name": "stdout",
     "output_type": "stream",
     "text": [
      "8.66 ms ± 267 µs per loop (mean ± std. dev. of 10 runs, 1000 loops each)\n"
     ]
    }
   ],
   "source": [
    "%timeit -n 1000 -r 10  heuristics['JWOS'](cnf)"
   ]
  },
  {
   "cell_type": "code",
   "execution_count": 29,
   "metadata": {},
   "outputs": [
    {
     "name": "stdout",
     "output_type": "stream",
     "text": [
      "11.6 ms ± 316 µs per loop (mean ± std. dev. of 10 runs, 1000 loops each)\n"
     ]
    }
   ],
   "source": [
    "%timeit -n 1000 -r 10  heuristics['JWTS'](cnf)"
   ]
  },
  {
   "cell_type": "code",
   "execution_count": 30,
   "metadata": {},
   "outputs": [
    {
     "name": "stdout",
     "output_type": "stream",
     "text": [
      "3.39 ms ± 216 µs per loop (mean ± std. dev. of 10 runs, 1000 loops each)\n"
     ]
    }
   ],
   "source": [
    "%timeit -n 1000 -r 10  heuristics['DLCS'](cnf)"
   ]
  },
  {
   "cell_type": "code",
   "execution_count": null,
   "metadata": {},
   "outputs": [],
   "source": []
  },
  {
   "cell_type": "code",
   "execution_count": null,
   "metadata": {},
   "outputs": [],
   "source": []
  }
 ],
 "metadata": {
  "kernelspec": {
   "display_name": "Python 3",
   "language": "python",
   "name": "python3"
  },
  "language_info": {
   "codemirror_mode": {
    "name": "ipython",
    "version": 3
   },
   "file_extension": ".py",
   "mimetype": "text/x-python",
   "name": "python",
   "nbconvert_exporter": "python",
   "pygments_lexer": "ipython3",
   "version": "3.7.6"
  }
 },
 "nbformat": 4,
 "nbformat_minor": 4
}
